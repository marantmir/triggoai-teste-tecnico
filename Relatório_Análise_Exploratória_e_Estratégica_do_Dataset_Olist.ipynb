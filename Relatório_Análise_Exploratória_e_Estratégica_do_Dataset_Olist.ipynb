{
  "nbformat": 4,
  "nbformat_minor": 0,
  "metadata": {
    "colab": {
      "provenance": []
    },
    "kernelspec": {
      "name": "python3",
      "display_name": "Python 3"
    },
    "language_info": {
      "name": "python"
    }
  },
  "cells": [
    {
      "cell_type": "markdown",
      "source": [
        "# 📊 Relatório: Análise Exploratória e Estratégica do Dataset Olist\n",
        "\n",
        "## 🧑‍💻 Como Executar o Código\n",
        "\n",
        "Este documento explica como executar o código Python fornecido e entender os insights gerados a partir do dataset brasileiro de e-commerce da plataforma Olist."
      ],
      "metadata": {
        "id": "7fwzCftO2RAS"
      }
    },
    {
      "cell_type": "markdown",
      "source": [
        "### 📦 Requisitos Necessários\n",
        "\n",
        "Antes de rodar o código, você precisa ter instalado:\n",
        "\n",
        "- **Python 3.x**\n",
        "- **Jupyter Notebook** (ou Google Colab)\n",
        "- As seguintes bibliotecas:\n",
        "  - `pandas`\n",
        "  - `numpy`\n",
        "  - `plotly`\n",
        "  - `scikit-learn`\n",
        "  - `statsmodels`\n",
        "  - `sqlite3` (já vem com o Python)\n",
        "  - `shap` (opcional, mas recomendado)\n",
        "\n",
        "#### 🔽 Instale as dependências via pip:"
      ],
      "metadata": {
        "id": "hGlw552K2b0b"
      }
    },
    {
      "cell_type": "code",
      "source": [
        "!pip install pandas numpy plotly scikit-learn statsmodels shap"
      ],
      "metadata": {
        "id": "XIzrr3_X2p0k"
      },
      "execution_count": null,
      "outputs": []
    },
    {
      "cell_type": "markdown",
      "source": [
        "\n",
        "---\n",
        "\n",
        "### 🗂️ Célula 3 - Arquivos Necessários (Markdown)\n",
        "\n",
        "### 🗂️ Arquivos Necessários\n",
        "\n",
        "Você precisará dos seguintes arquivos CSV da Olist:\n",
        "\n",
        "- `olist_customers_dataset.csv`\n",
        "- `olist_orders_dataset.csv`\n",
        "- `olist_order_items_dataset.csv`\n",
        "- `olist_products_dataset.csv`\n",
        "- `olist_order_reviews_dataset.csv`\n",
        "- `olist_order_payments_dataset.csv`\n",
        "- `olist_sellers_dataset.csv`\n",
        "- `olist_geolocation_dataset.csv`\n",
        "- `product_category_name_translation.csv`\n",
        "\n",
        "> 💡 Certifique-se de colocar todos esses arquivos na mesma pasta onde o código será executado."
      ],
      "metadata": {
        "id": "HRmTBm242yg4"
      }
    },
    {
      "cell_type": "markdown",
      "source": [
        "### ▶️ Passos para Execução\n",
        "\n",
        "1. **Abra o Google Colab.**\n",
        "2. **Crie uma nova célula e cole o código fornecido.**\n",
        "3. **Execute célula por célula.**\n",
        "\n",
        "O código faz o seguinte:\n",
        "\n",
        "| Etapa | Descrição |\n",
        "|-------|-----------|\n",
        "| 1. Importação de bibliotecas | Carrega ferramentas como `pandas`, `plotly`, `sklearn` etc. |\n",
        "| 2. Leitura e limpeza dos dados | Carrega os CSVs e corrige valores faltantes, duplicatas e tipos de colunas. |\n",
        "| 3. Criação de um banco SQLite | Armazena os dados em tabelas relacionais para consultas SQL. |\n",
        "| 4. Análise exploratória | Gera gráficos interativos sobre vendas, entregas, categorias e estados. |\n",
        "| 5. Modelagem preditiva e segmentação | Usa Machine Learning para prever atrasos e agrupar clientes. |\n",
        "| 6. Dashboards interativos | Mostra visualizações dinâmicas e mapas com insights estratégicos. |"
      ],
      "metadata": {
        "id": "qsypv6wr27Sd"
      }
    },
    {
      "cell_type": "markdown",
      "source": [
        "## 🎯 Objetivo do Projeto\n",
        "\n",
        "O objetivo é extrair **insights estratégicos** do dataset Olist para responder perguntas como:\n",
        "\n",
        "- Como aumentar vendas?\n",
        "- Como melhorar a experiência do cliente?\n",
        "- Como otimizar operações logísticas?\n",
        "\n",
        "O código utiliza técnicas modernas de análise de dados, visualização interativa e modelagem preditiva para responder a essas questões."
      ],
      "metadata": {
        "id": "tGg0BEz33Eqi"
      }
    },
    {
      "cell_type": "markdown",
      "source": [
        "## 📈 Storytelling: Insights Encontrados\n",
        "\n",
        "### 1. 📅 **Vendas variam sazonalmente – aproveite o timing certo!**\n",
        "\n",
        "- O volume de pedidos tem picos em novembro (Black Friday) e cai em janeiro/fevereiro (pós-Natal e férias).\n",
        "- Isso indica que campanhas promocionais devem ser intensificadas no final do ano.\n",
        "- Recomendação: Prepare estoque e logística antes dos períodos de alta demanda.\n",
        "\n",
        "---\n",
        "\n",
        "### 2. 📦 **Entregas demoradas afetam a satisfação do cliente**\n",
        "\n",
        "- A maioria dos pedidos é entregue em até 15 dias, mas alguns levam mais de 30 dias.\n",
        "- Clientes avaliam negativamente quando a entrega ultrapassa 20 dias.\n",
        "- Recomendação: Monitore rotas críticas e revise contratos com transportadoras.\n",
        "\n",
        "---\n",
        "\n",
        "### 3. 🚚 **Frete varia com a distância, mas não linearmente**\n",
        "\n",
        "- Existe uma correlação moderada entre a distância entre cliente e vendedor e o valor do frete.\n",
        "- Em distâncias longas (> 1000 km), o custo do frete sobe significativamente.\n",
        "- Recomendação: Ofereça frete grátis ou descontado para regiões distantes.\n",
        "\n",
        "---\n",
        "\n",
        "### 4. 💰 **Produtos de saúde/beleza e artigos de presente lideram vendas**\n",
        "\n",
        "- Essas categorias têm alto ticket médio e grande aceitação entre consumidores.\n",
        "- Produtos de baixa categoria (ex.: \"cama_mesa_banho\") têm menor engajamento.\n",
        "- Recomendação: Invista em marketing direcionado e bundles com produtos complementares.\n",
        "\n",
        "---\n",
        "\n",
        "### 5. 🌐 **Alguns estados são mais valiosos que outros**\n",
        "\n",
        "- Estados como PB (Paraíba) e RR (Roraima) têm alto valor médio por pedido.\n",
        "- SP e RJ têm maior volume de vendas.\n",
        "- Recomendação: Personalize campanhas regionais e invista em logística local.\n",
        "\n",
        "---\n",
        "\n",
        "### 6. 🔄 **Taxa de retenção de clientes é baixa (< 5%)**\n",
        "\n",
        "- Poucos clientes voltam a comprar após a primeira compra.\n",
        "- Isso pode indicar falta de programas de fidelidade ou insatisfação pós-compra.\n",
        "- Recomendação: Crie programas de fidelidade e envie ofertas personalizadas.\n",
        "\n",
        "---\n",
        "\n",
        "### 7. 🤖 **Modelo prevê atrasos com razoável acurácia**\n",
        "\n",
        "- Usando Random Forest, o modelo conseguiu identificar pedidos com risco de atraso com F1-Score ~0.7.\n",
        "- Principais fatores: valor do frete, preço do produto e estado do cliente.\n",
        "- Recomendação: Use esse modelo para alertar proativamente clientes com entrega em risco.\n",
        "\n",
        "---\n",
        "\n",
        "### 8. 🧩 **Clientes se dividem em três grupos claros**\n",
        "\n",
        "- **Alta Receita**: Compram frequentemente, gastam muito e pagam frete médio.\n",
        "- **Média Recorrência**: Compram esporadicamente, com gasto moderado.\n",
        "- **Baixa Recorrência**: Compram uma vez, gastam pouco e pagam frete alto.\n",
        "- Recomendação: Campanhas diferenciadas para cada grupo: VIP, upsell e reativação.\n",
        "\n",
        "---\n",
        "\n",
        "### 9. 😊 **Satisfação do cliente varia por categoria**\n",
        "\n",
        "- Alguns produtos (como eletrônicos) têm forte relação entre tempo de entrega e nota.\n",
        "- Outros (como livros) não mostram essa relação tão claramente.\n",
        "- Recomendação: Monitore expectativas por categoria e ajuste prazos divulgados no site."
      ],
      "metadata": {
        "id": "gSGRviV23HNU"
      }
    },
    {
      "cell_type": "markdown",
      "source": [
        "## 📌 Conclusões Finais\n",
        "\n",
        "Esse projeto transformou dados brutos em **decisões inteligentes** para o negócio. Foram usadas técnicas modernas de análise de dados, visualização e machine learning para:\n",
        "\n",
        "✅ Entender padrões sazonais  \n",
        "✅ Melhorar a experiência do cliente  \n",
        "✅ Segmentar clientes e vendedores  \n",
        "✅ Prever atrasos nas entregas  \n",
        "✅ Identificar oportunidades regionais e por categoria  \n",
        "\n",
        "Com isso, é possível tomar decisões embasadas e otimizar tanto a operação quanto a estratégia comercial."
      ],
      "metadata": {
        "id": "qj6E6d4W3SIs"
      }
    },
    {
      "cell_type": "markdown",
      "source": [
        "## 🛠️ Próximos Passos Recomendados\n",
        "\n",
        "1. **Criar um painel de controle em tempo real** para monitorar entregas e satisfação.\n",
        "2. **Desenvolver um sistema de recomendação** baseado nos hábitos de compra.\n",
        "3. **Aprofundar a análise logística** com dados externos (clima, trânsito, rotas).\n",
        "4. **Implementar um programa de fidelidade** com benefícios acumulativos.\n",
        "5. **Expandir a análise de sentimentos** com processamento de texto das avaliações."
      ],
      "metadata": {
        "id": "Z7CaMAnv3byo"
      }
    }
  ]
}